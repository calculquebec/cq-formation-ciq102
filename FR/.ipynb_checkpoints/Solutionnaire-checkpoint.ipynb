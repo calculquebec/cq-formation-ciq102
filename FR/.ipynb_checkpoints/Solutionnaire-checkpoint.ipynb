{
 "cells": [
  {
   "cell_type": "markdown",
   "metadata": {},
   "source": [
    "# SOLUTIONNAIRE"
   ]
  },
  {
   "cell_type": "code",
   "execution_count": 1,
   "metadata": {},
   "outputs": [],
   "source": [
    "import pennylane as qml\n",
    "import numpy as np"
   ]
  },
  {
   "cell_type": "code",
   "execution_count": 6,
   "metadata": {},
   "outputs": [],
   "source": [
    "#Exercice 1\n",
    "dev = qml.device(\"default.qubit\", wires = 2)\n",
    "@qml.qnode(dev)\n",
    "def circuit():\n",
    "    qml.Hadamard(wires = 0)\n",
    "    qml.CNOT(wires = [0,1])\n",
    "    return qml.state()"
   ]
  },
  {
   "cell_type": "code",
   "execution_count": 9,
   "metadata": {},
   "outputs": [],
   "source": [
    "#Exercice 2\n",
    "#a)\n",
    "dev = qml.device('default.qubit', wires = 2)\n",
    "@qml.qnode(dev)\n",
    "def phi_moins():\n",
    "    qml.PauliX(wires = 0)\n",
    "    qml.Hadamard(wires = 0)\n",
    "    qml.CNOT(wires = [0,1])\n",
    "    return qml.state()\n",
    "\n",
    "#b)\n",
    "@qml.qnode(dev)\n",
    "def psi_plus():\n",
    "  qml.Hadamard(wires = 0)\n",
    "  qml.CNOT(wires = [0,1])\n",
    "  qml.PauliX(wires = 0)\n",
    "  return qml.state()\n",
    "\n",
    "#c)\n",
    "@qml.qnode(dev)\n",
    "def psi_moins():\n",
    "  qml.Hadamard(wires = 0)\n",
    "  qml.CNOT(wires = [0,1])\n",
    "  qml.Z(wires = 0)\n",
    "  qml.X(wires = 1)\n",
    "  return qml.state()\n"
   ]
  },
  {
   "cell_type": "code",
   "execution_count": 2,
   "metadata": {},
   "outputs": [],
   "source": [
    "#Exercice 3\n",
    "dev = qml.device('default.qubit', wires=1)\n",
    "@qml.qnode(dev)\n",
    "def prepare_with_gate():\n",
    "  qml.RX(np.pi/3, wires = 0)\n",
    "  return qml.state()\n",
    "\n",
    "state = np.array([np.sqrt(3)/2, -0.5j])\n",
    "\n",
    "@qml.qnode(dev)\n",
    "def prepare_with_StatePrep(state):\n",
    "  qml.StatePrep(state=state, wires=0)\n",
    "  return qml.state()\n"
   ]
  },
  {
   "cell_type": "code",
   "execution_count": null,
   "metadata": {},
   "outputs": [],
   "source": [
    "#Exercice 4\n",
    "dev = qml.device('default.qubit', wires = 1)\n",
    "@qml.qnode(dev)\n",
    "def circuit():\n",
    "\n",
    "    qml.Hadamard(wires = 0)\n",
    "    qml.Z(wires = 0)\n",
    "\n",
    "    return qml.expval(qml.Z(wires = 0))\n",
    "    \n",
    "print(circuit())"
   ]
  },
  {
   "cell_type": "code",
   "execution_count": null,
   "metadata": {},
   "outputs": [],
   "source": [
    "#Exercice 5\n",
    "num_wires = 3\n",
    "num_shots = 1000 #complétez cette ligne\n",
    "dev = qml.device('default.qubit', wires = num_wires, shots = num_shots)\n",
    "@qml.qnode(dev)\n",
    "def even_superposition():\n",
    "    for i in range(num_wires): #complétez cette ligne\n",
    "        qml.Hadamard(wires = i) #complétez cette ligne\n",
    "    return qml.counts() #Complétez cette ligne\n",
    "\n",
    "result = even_superposition()\n",
    "print(result)\n",
    "\n",
    "all_states = [''.join(bits) for bits in itertools.product('01', repeat=3)]\n",
    "counts = [int(result.get(state, 0)) for state in all_states]\n",
    "\n",
    "plt.bar(all_states, counts, color=\"royalblue\")\n",
    "plt.xlabel(\"State\")\n",
    "plt.ylabel(\"Counts\")\n",
    "plt.title(\"Measurement distribution (3 qubits)\")\n",
    "plt.show()"
   ]
  },
  {
   "cell_type": "code",
   "execution_count": null,
   "metadata": {},
   "outputs": [],
   "source": [
    "#Exercice 6\n",
    "dev = qml.device(\"default.qubit\", wires=1)\n",
    "\n",
    "@qml.qnode(dev)\n",
    "def variational_circuit(observable, params):\n",
    "    \"\"\"\n",
    "    Implémente un circuit variationnel simple avec deux rotations :\n",
    "    Rx et Ry, dont les angles sont donnés dans params.\n",
    "\n",
    "    Args:\n",
    "        observable (qml.operation.Observable): L'observable à mesurer.\n",
    "        params (list[float]): Liste de deux paramètres (theta_x, theta_y).\n",
    "\n",
    "    Returns:\n",
    "        float: La valeur moyenne <observable>.\n",
    "    \"\"\"\n",
    "    qml.RX(params[0], wires=0) # Complétez cette ligne \n",
    "    qml.RY(params[1], wires=0) # Complétez cette ligne \n",
    "    \n",
    "    return qml.expval(observable)\n",
    "\n",
    "# Exemple de test avec l'observable PauliZ\n",
    "params = np.array([0.1, 0.2], requires_grad=True)\n",
    "print(\"Résultat =\", variational_circuit(qml.PauliZ(0), params))"
   ]
  }
 ],
 "metadata": {
  "kernelspec": {
   "display_name": "NENV",
   "language": "python",
   "name": "nenv"
  },
  "language_info": {
   "codemirror_mode": {
    "name": "ipython",
    "version": 3
   },
   "file_extension": ".py",
   "mimetype": "text/x-python",
   "name": "python",
   "nbconvert_exporter": "python",
   "pygments_lexer": "ipython3",
   "version": "3.12.7"
  }
 },
 "nbformat": 4,
 "nbformat_minor": 4
}
